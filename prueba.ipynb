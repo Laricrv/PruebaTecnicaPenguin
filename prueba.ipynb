{
 "cells": [
  {
   "cell_type": "markdown",
   "metadata": {},
   "source": [
    "## Prueba Tecnica"
   ]
  },
  {
   "cell_type": "markdown",
   "metadata": {},
   "source": [
    "Escribir una función que tome una lista de números y devuelva el número más grande."
   ]
  },
  {
   "cell_type": "code",
   "execution_count": 4,
   "metadata": {},
   "outputs": [
    {
     "name": "stdout",
     "output_type": "stream",
     "text": [
      "60\n"
     ]
    }
   ],
   "source": [
    "def lista_numero(lista):           # Creamos la funcion de la lista de numeros\n",
    "    mayor = lista[0]               # Posicionamos el mayor en la posicion cero\n",
    "\n",
    "    for numero in lista:           # Comenzamos el recorrido de cada numero en la lista\n",
    "        if numero > mayor:         # Si encontramos algun numero mayor este se almacenara en la variable mayor\n",
    "            mayor = numero\n",
    "\n",
    "    return mayor                    # Retornamos el numero mayor\n",
    "\n",
    "numeros = [1, 2, 9, 4, 6, 3, 5, 12, 4, 60, 12]     # Prueba de los numeros\n",
    "resultado = lista_numero(numeros)\n",
    "print(resultado)                    # Imprimimos el resultado"
   ]
  },
  {
   "cell_type": "markdown",
   "metadata": {},
   "source": [
    "Escribir una función que tome una lista de números y devuelva una lista con los números ordenados de menor a mayor."
   ]
  },
  {
   "cell_type": "code",
   "execution_count": 10,
   "metadata": {},
   "outputs": [
    {
     "name": "stdout",
     "output_type": "stream",
     "text": [
      "[1, 2, 3, 4, 5, 6, 7, 8, 9]\n"
     ]
    }
   ],
   "source": [
    "def lista_numero(lista):                # Creamos la funcion\n",
    "    lista_ordenada = sorted(lista)      # Ordenamos la lista y la almacenamos en una variable\n",
    "    \n",
    "    return lista_ordenada               # Retornamos la lista ordenada\n",
    "\n",
    "numeros = [2, 5, 8, 4, 9, 1, 6, 7, 3]   # Ejemplo de numeros\n",
    "resultado = lista_numero(numeros)       # Llamamos a la funcion\n",
    "print(resultado)                        # Imprimimos el resultado"
   ]
  },
  {
   "cell_type": "markdown",
   "metadata": {},
   "source": [
    "Escribir una función que tome una lista de números y devuelva la mediana (el número que está en el centro de la lista cuando está ordenada)"
   ]
  },
  {
   "cell_type": "code",
   "execution_count": 23,
   "metadata": {},
   "outputs": [
    {
     "name": "stdout",
     "output_type": "stream",
     "text": [
      "Mediana Lista impar: 5\n",
      "Mediana Lista par: 4.5\n"
     ]
    }
   ],
   "source": [
    "def lista_numero(lista):        # Creamos la funcion\n",
    "    lista.sort()                # Ordenamos los numeros de menor a mayor\n",
    "\n",
    "    mitad = len(lista)//2       # Buscamos la mitad de la cantidad de elementos de la lista\n",
    "\n",
    "    if len(lista) % 2 == 0:         # Si la lista es par se realiza la suma de los dos elementos centrales dividido 2\n",
    "        mediana = (lista[mitad-1] + lista[mitad])/2\n",
    "    else:\n",
    "        mediana = lista [mitad]     # Si la lista es impar se utiliza el valor del centro\n",
    "\n",
    "    return mediana                  # Retornamos la mediana\n",
    "\n",
    "numeros1 = [3, 5, 6, 7, 1, 9, 2]         #[1, 2, 3, 5, 6, 7, 9]  Lista ordenada impar EJEMPLO\n",
    "resultado1 = lista_numero(numeros1)      \n",
    "\n",
    "numeros2 = [3, 5, 6, 7, 1, 9, 2, 4]      #[1, 2, 3, 4, 5, 6, 7, 9]   Lista ordenada par\n",
    "resultado2 = lista_numero(numeros2)\n",
    "\n",
    "print('Mediana Lista impar:', resultado1)  # Imprimimos el resultado\n",
    "print('Mediana Lista par:', resultado2)"
   ]
  }
 ],
 "metadata": {
  "kernelspec": {
   "display_name": "Python 3",
   "language": "python",
   "name": "python3"
  },
  "language_info": {
   "codemirror_mode": {
    "name": "ipython",
    "version": 3
   },
   "file_extension": ".py",
   "mimetype": "text/x-python",
   "name": "python",
   "nbconvert_exporter": "python",
   "pygments_lexer": "ipython3",
   "version": "3.11.5"
  }
 },
 "nbformat": 4,
 "nbformat_minor": 2
}
